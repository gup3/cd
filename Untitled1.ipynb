{
 "cells": [
  {
   "cell_type": "code",
   "execution_count": 29,
   "id": "45942206",
   "metadata": {},
   "outputs": [
    {
     "data": {
      "text/plain": [
       "(array([9209., 9078., 8994., 8990., 8989., 9022., 9133., 9134., 9228.,\n",
       "        9070., 9153.]),\n",
       " array([ 0.        ,  0.90909091,  1.81818182,  2.72727273,  3.63636364,\n",
       "         4.54545455,  5.45454545,  6.36363636,  7.27272727,  8.18181818,\n",
       "         9.09090909, 10.        ]),\n",
       " <a list of 11 Patch objects>)"
      ]
     },
     "execution_count": 29,
     "metadata": {},
     "output_type": "execute_result"
    },
    {
     "data": {
      "image/png": "[encoded data removed]",
      "text/plain": [
       "<Figure size 432x288 with 1 Axes>"
      ]
     },
     "metadata": {
      "needs_background": "light"
     },
     "output_type": "display_data"
    }
   ],
   "source": [
    "import numpy as np\n",
    "import matplotlib.pyplot as plt\n",
    "rng = np.random.default_rng()\n",
    "y = rng.integers(11, size=100000)\n",
    "\n",
    "plt.hist(y, bins=11, edgecolor=\"black\")\n"
   ]
  },
  {
   "cell_type": "code",
   "execution_count": 35,
   "id": "43198ca0",
   "metadata": {},
   "outputs": [
    {
     "data": {
      "text/plain": [
       "(array([ 222.,  577.,  919., 1241., 1506., 1754., 1363., 1120.,  765.,\n",
       "         533.]),\n",
       " array([ 0.,  2.,  4.,  6.,  8., 10., 12., 14., 16., 18., 20.]),\n",
       " <a list of 10 Patch objects>)"
      ]
     },
     "execution_count": 35,
     "metadata": {},
     "output_type": "execute_result"
    },
    {
     "data": {
      "image/png": "[encoded data removed]",
      "text/plain": [
       "<Figure size 432x288 with 1 Axes>"
      ]
     },
     "metadata": {
      "needs_background": "light"
     },
     "output_type": "display_data"
    }
   ],
   "source": [
    "rng = np.random.default_rng()\n",
    "a = rng.integers(11, size=100000)\n",
    "b = rng.integers(11, size=100000)\n",
    "plt.hist(a+b, edgecolor=\"black\")"
   ]
  },
  {
   "cell_type": "code",
   "execution_count": 38,
   "id": "0a7ad0e1",
   "metadata": {},
   "outputs": [
    {
     "data": {
      "text/plain": [
       "(array([  748.,  3441.,  8177., 14774., 19451., 20203., 16732., 10239.,\n",
       "         4763.,  1472.]),\n",
       " array([ 0.,  3.,  6.,  9., 12., 15., 18., 21., 24., 27., 30.]),\n",
       " <a list of 10 Patch objects>)"
      ]
     },
     "execution_count": 38,
     "metadata": {},
     "output_type": "execute_result"
    },
    {
     "data": {
      "image/png": "[encoded data removed]",
      "text/plain": [
       "<Figure size 432x288 with 1 Axes>"
      ]
     },
     "metadata": {
      "needs_background": "light"
     },
     "output_type": "display_data"
    }
   ],
   "source": [
    "rng = np.random.default_rng()\n",
    "c = rng.integers(11, size=100000)\n",
    "d = rng.integers(11, size=100000)\n",
    "e = rng.integers(11, size=100000)\n",
    "plt.hist(c+d+e, edgecolor=\"black\")"
   ]
  },
  {
   "cell_type": "code",
   "execution_count": null,
   "id": "b0292d48",
   "metadata": {},
   "outputs": [],
   "source": []
  }
 ],
 "metadata": {
  "kernelspec": {
   "display_name": "Python 3 (ipykernel)",
   "language": "python",
   "name": "python3"
  },
  "language_info": {
   "codemirror_mode": {
    "name": "ipython",
    "version": 3
   },
   "file_extension": ".py",
   "mimetype": "text/x-python",
   "name": "python",
   "nbconvert_exporter": "python",
   "pygments_lexer": "ipython3",
   "version": "3.8.10"
  }
 },
 "nbformat": 4,
 "nbformat_minor": 5
}
